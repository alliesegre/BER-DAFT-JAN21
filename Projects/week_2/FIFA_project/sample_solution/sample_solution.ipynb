{
 "cells": [
  {
   "cell_type": "markdown",
   "metadata": {
    "id": "67LzTGyyQW7j"
   },
   "source": [
    "# FIFA 21 IRONHACK COMPETITION"
   ]
  },
  {
   "cell_type": "markdown",
   "metadata": {
    "id": "X00SGA2AQW7m"
   },
   "source": [
    "You will use the fifa21_trainning.csv dataset provided to predict the position ('OVA') of each player. The competition will take place from monday morning to tuesday. \n",
    "<br><br>\n",
    "Your model will be saved in a pickle file.\n",
    "<br><br>\n",
    "The ranking of the competitors will be calculated according to the highest Mean Average Error (MAE), rounded to 2 decimals.\n",
    "<br><br>\n",
    "Ties will be broken using, respectively: R2 Score (rounded to 2 decimals), Root Mean Squared Error (rounded to 2 decimals), time to run the code (using timeit)\n",
    "<br>\n"
   ]
  },
  {
   "cell_type": "markdown",
   "metadata": {},
   "source": [
    "## DELIVERABLES:"
   ]
  },
  {
   "cell_type": "markdown",
   "metadata": {},
   "source": [
    "Your group should deliver a `group Jupyter notebook` with all the preprocessing functions alongside with the model.\n",
    "\n",
    "Everything must be delivered until 12am on Tuesday. \n",
    "<br><br>\n",
    "Be prepared to share your work on Tuesday morning, the best scores will have the opportunity to show their notebook and go through their pipeline (~10 min).\n",
    "<br><br>\n",
    "\n",
    "To deliver:\n",
    "* A notebook with your work and model (group_number.ipynb);\n",
    "* Pickle file with the model (group_number.pkl). \n",
    "<br><br>\n",
    "\n",
    "The instructor will use your `group Jupyter notebook` to load a new dataset and use your functions and\n",
    "your model to make a prediction in unseen data.\n",
    "\n"
   ]
  },
  {
   "cell_type": "markdown",
   "metadata": {
    "id": "UfvX_KUYQW7r"
   },
   "source": [
    "# Your code from here on:"
   ]
  },
  {
   "cell_type": "markdown",
   "metadata": {
    "id": "GZ9cYF3ZQW7r"
   },
   "source": [
    "OBS.: Do everything you need above the cell below, then select your best model and return it as an object so it can be saved as a pickle file."
   ]
  },
  {
   "cell_type": "code",
   "execution_count": 1,
   "metadata": {
    "id": "2SU4J168QW7s"
   },
   "outputs": [],
   "source": [
    "# Usual modules\n",
    "import pandas as pd\n",
    "import numpy as np\n",
    "\n",
    "# Graphical libraries\n",
    "import matplotlib.pyplot as plt\n",
    "import seaborn as sns\n",
    "%matplotlib inline\n",
    "\n",
    "#sklearn modules\n",
    "from sklearn.preprocessing import StandardScaler\n",
    "from sklearn.linear_model import LinearRegression\n",
    "from sklearn.metrics import mean_absolute_error, mean_squared_error, r2_score\n",
    "\n",
    "#progress bar\n",
    "from tqdm.notebook import tqdm "
   ]
  },
  {
   "cell_type": "markdown",
   "metadata": {},
   "source": [
    "Installation commands\n",
    "* **Pycountry-convert** (only available via pip, make a safe copy of your environment first, e.g. with `conda create --name ironhack_safe --clone ironhack` )\n",
    "```bash\n",
    "pip install pycountry-convert\n",
    "```"
   ]
  },
  {
   "cell_type": "markdown",
   "metadata": {},
   "source": [
    "# 0. Data load "
   ]
  },
  {
   "cell_type": "code",
   "execution_count": 2,
   "metadata": {
    "id": "wcrh5Xw9QW7v"
   },
   "outputs": [],
   "source": [
    "data = pd.read_csv(\"../fifa21_trainning.csv\")"
   ]
  },
  {
   "cell_type": "markdown",
   "metadata": {},
   "source": [
    "# 1. Missing values exploration"
   ]
  },
  {
   "cell_type": "code",
   "execution_count": 3,
   "metadata": {
    "id": "KwAM27raQW7y",
    "outputId": "9bd143e9-10be-410b-d337-ecc464265cde"
   },
   "outputs": [],
   "source": [
    "float_nulls = data.select_dtypes(['int64','float64'])"
   ]
  },
  {
   "cell_type": "code",
   "execution_count": 4,
   "metadata": {
    "id": "KwAM27raQW7y",
    "outputId": "9bd143e9-10be-410b-d337-ecc464265cde",
    "scrolled": false
   },
   "outputs": [
    {
     "data": {
      "text/html": [
       "<div>\n",
       "<style scoped>\n",
       "    .dataframe tbody tr th:only-of-type {\n",
       "        vertical-align: middle;\n",
       "    }\n",
       "\n",
       "    .dataframe tbody tr th {\n",
       "        vertical-align: top;\n",
       "    }\n",
       "\n",
       "    .dataframe thead th {\n",
       "        text-align: right;\n",
       "    }\n",
       "</style>\n",
       "<table border=\"1\" class=\"dataframe\">\n",
       "  <thead>\n",
       "    <tr style=\"text-align: right;\">\n",
       "      <th></th>\n",
       "      <th>column_name</th>\n",
       "      <th>Percentage Null Values</th>\n",
       "    </tr>\n",
       "  </thead>\n",
       "  <tbody>\n",
       "    <tr>\n",
       "      <th>34</th>\n",
       "      <td>Composure</td>\n",
       "      <td>0.024015</td>\n",
       "    </tr>\n",
       "    <tr>\n",
       "      <th>9</th>\n",
       "      <td>Volleys</td>\n",
       "      <td>0.003212</td>\n",
       "    </tr>\n",
       "    <tr>\n",
       "      <th>12</th>\n",
       "      <td>Curve</td>\n",
       "      <td>0.003212</td>\n",
       "    </tr>\n",
       "    <tr>\n",
       "      <th>19</th>\n",
       "      <td>Agility</td>\n",
       "      <td>0.003212</td>\n",
       "    </tr>\n",
       "    <tr>\n",
       "      <th>21</th>\n",
       "      <td>Balance</td>\n",
       "      <td>0.003212</td>\n",
       "    </tr>\n",
       "    <tr>\n",
       "      <th>24</th>\n",
       "      <td>Jumping</td>\n",
       "      <td>0.003212</td>\n",
       "    </tr>\n",
       "    <tr>\n",
       "      <th>32</th>\n",
       "      <td>Vision</td>\n",
       "      <td>0.003212</td>\n",
       "    </tr>\n",
       "    <tr>\n",
       "      <th>38</th>\n",
       "      <td>Sliding Tackle</td>\n",
       "      <td>0.003212</td>\n",
       "    </tr>\n",
       "    <tr>\n",
       "      <th>30</th>\n",
       "      <td>Interceptions</td>\n",
       "      <td>0.000511</td>\n",
       "    </tr>\n",
       "    <tr>\n",
       "      <th>31</th>\n",
       "      <td>Positioning</td>\n",
       "      <td>0.000511</td>\n",
       "    </tr>\n",
       "  </tbody>\n",
       "</table>\n",
       "</div>"
      ],
      "text/plain": [
       "       column_name  Percentage Null Values\n",
       "34       Composure                0.024015\n",
       "9          Volleys                0.003212\n",
       "12           Curve                0.003212\n",
       "19         Agility                0.003212\n",
       "21         Balance                0.003212\n",
       "24         Jumping                0.003212\n",
       "32          Vision                0.003212\n",
       "38  Sliding Tackle                0.003212\n",
       "30   Interceptions                0.000511\n",
       "31     Positioning                0.000511"
      ]
     },
     "execution_count": 4,
     "metadata": {},
     "output_type": "execute_result"
    }
   ],
   "source": [
    "nulls = pd.DataFrame(float_nulls.isna().sum()/len(float_nulls))\n",
    "nulls = nulls.reset_index()\n",
    "nulls.columns = ['column_name', 'Percentage Null Values']\n",
    "nulls[nulls['Percentage Null Values']>0].sort_values(by='Percentage Null Values', ascending = False)"
   ]
  },
  {
   "cell_type": "markdown",
   "metadata": {},
   "source": [
    "# 2. Preprocessing functions"
   ]
  },
  {
   "cell_type": "markdown",
   "metadata": {},
   "source": [
    "## Defining functions for each preprocessing step"
   ]
  },
  {
   "cell_type": "code",
   "execution_count": 5,
   "metadata": {},
   "outputs": [],
   "source": [
    "# Function which transforms height column to total inches (as float)\n",
    "def parse_ht(ht):\n",
    "    ht_ = ht.split(\"\\'\")\n",
    "    ft_ = float(ht_[0])\n",
    "    in_ = float(ht_[1].replace(\"\\\"\",\"\"))\n",
    "    return (12*ft_) + in_\n",
    "\n",
    "# Function which transforms the value column to total Euros (as float)\n",
    "def parse_v(v):\n",
    "    vmk_ = v[-1]\n",
    "    v_ = v[:-1]\n",
    "    if vmk_ == \"M\":\n",
    "        v_ = float(v_)*100000\n",
    "    elif vmk_ == \"K\":\n",
    "        v_ = float(v_) * 1000\n",
    "    else:\n",
    "        v_ = np.nan\n",
    "    return v_\n",
    "\n",
    "# Function wich transforms the hits column to total hits (as float)\n",
    "def parse_hits(h):\n",
    "    k_ = h[-1]\n",
    "    if k_ == \"K\":\n",
    "        v_ = h[:-1]\n",
    "        v_ = float(v_)*1000\n",
    "    else:\n",
    "        v_ = h\n",
    "    return v_\n",
    "\n",
    "# Two functions which extract from any rating column the value left (rt_l)\n",
    "# and the value right (rt_r) of the '+'\n",
    "def parse_rt_l(rt):\n",
    "    rt_ = rt.split(\"+\")\n",
    "    rt_l = float(rt_[0])\n",
    "    return rt_l\n",
    "\n",
    "def parse_rt_r(rt):\n",
    "    rt_ = rt.split(\"+\")\n",
    "    rt_r = float(rt_[1])\n",
    "    return rt_r\n",
    "\n",
    "# Generating continent feature from country using library pycountry\n",
    "def continent(c_name):\n",
    "    if c_name in ['Bosnia Herzegovina', 'Republic of Ireland', 'Kosovo']:\n",
    "         return 'Europe'\n",
    "    elif c_name in ['Korea DPR','Chinese Taipei']:\n",
    "        return 'Asia'\n",
    "    elif c_name in ['Trinidad &amp; Tobago']:\n",
    "        return 'South America'\n",
    "    elif c_name in ['Antigua &amp; Barbuda']:\n",
    "        return 'North America'\n",
    "    elif c_name in ['São Tomé &amp; Príncipe']:\n",
    "        return 'Africa'\n",
    "    else:\n",
    "        try:\n",
    "            country_alpha2 = pc.country_name_to_country_alpha2(c_name)\n",
    "            country_continent_code = pc.country_alpha2_to_continent_code(country_alpha2)\n",
    "            country_continent_name = pc.convert_continent_code_to_continent_name(country_continent_code)\n",
    "            return country_continent_name\n",
    "        except:\n",
    "            try:\n",
    "                country_names = [x.name.lower() for x in pycountry.countries]    \n",
    "                matching_countries = difflib.get_close_matches(c_name, country_names)\n",
    "                confidence = difflib.SequenceMatcher(None, matching_countries[0], c_name).ratio()\n",
    "                country_alpha2 = pc.country_name_to_country_alpha2(matching_countries[0].title())\n",
    "                country_continent_code = pc.country_alpha2_to_continent_code(country_alpha2)\n",
    "                country_continent_name = pc.convert_continent_code_to_continent_name(country_continent_code)\n",
    "                return country_continent_name\n",
    "            except:\n",
    "                #Europe is the most common\n",
    "                return 'Europe'\n",
    "\n",
    "# make a function that takes in the dataset and applies all \n",
    "# transformations returning the transformed X and y\n",
    "# The \"Big mama\"\n",
    "def clean_dataset(dataset):\n",
    "    ###Your code here###\n",
    "    ###forbidden to drop outliers###\n",
    "    import pycountry_convert as pc\n",
    "    import difflib\n",
    "    from sklearn.preprocessing import StandardScaler\n",
    "    from pycountry_convert import country_alpha2_to_continent_code, country_name_to_country_alpha2\n",
    "    \n",
    "    fifa21_trainning = dataset\n",
    "    \n",
    "    #fifa21_trainning = pd.read_csv(\"fifa21_trainning.csv\")\n",
    "\n",
    "    impute_mean_list =  ['Value','Composure','Volleys','Curve','Agility','Balance', \n",
    "                         'Jumping','Vision','Sliding Tackle','Interceptions',\n",
    "                         'Positioning','Wage','Release Clause','Joined']\n",
    "    \n",
    "    money_list = [\"Value\",\"Wage\",\"Release Clause\"]\n",
    "    \n",
    "    star_list = ['W/F','SM','IR']\n",
    "    \n",
    "    ratings_list = ['LDM','CDM','RDM','RWB','LB','LCB','CB','RCB','RB',\n",
    "                    'GK','RW','LAM','CAM','RAM','LM','LCM','CM','RCM',\n",
    "                    'RM','LWB','LS','ST','RS','LW','LF','CF','RF']\n",
    "    \n",
    "    low_med_high = ['A/W','D/W']\n",
    "    \n",
    "    low_med_high_dict = {'Low':0,'Medium':1,'High':2,np.NaN:1}\n",
    "\n",
    "    fifa21_trainning[\"Height\"] = fifa21_trainning[\"Height\"].apply(lambda x: parse_ht(x))\n",
    "    fifa21_trainning[\"Weight\"] = fifa21_trainning[\"Weight\"].str.replace('lbs', '')\n",
    "    fifa21_trainning[\"Weight\"] = fifa21_trainning[\"Weight\"].astype('int64')\n",
    "\n",
    "    fifa21_trainning['Joined'] = pd.to_datetime(fifa21_trainning['Joined'])\n",
    "    fifa21_trainning['Joined'] = fifa21_trainning['Joined'].apply(lambda x: 2020 - x.year)\n",
    "\n",
    "    for i in ratings_list:\n",
    "        fifa21_trainning[i+str(\"1\")] = fifa21_trainning[i].apply(lambda x: parse_rt_l(x))\n",
    "        fifa21_trainning[i] = fifa21_trainning[i].apply(lambda x: parse_rt_r(x))\n",
    "\n",
    "    for i in money_list:\n",
    "        fifa21_trainning[i] = fifa21_trainning[i].str.replace('€', '')\n",
    "        fifa21_trainning[i] = fifa21_trainning[i].apply(lambda x: parse_v(x))\n",
    "\n",
    "    for i in impute_mean_list:\n",
    "        fifa21_trainning[i] = fifa21_trainning[i].fillna(fifa21_trainning[i].mean())\n",
    "\n",
    "    for i in money_list:\n",
    "        fifa21_trainning[i] = fifa21_trainning[i].astype('int64')\n",
    "\n",
    "    for i in star_list:\n",
    "        fifa21_trainning[i] = fifa21_trainning[i].str[0].astype('int64')\n",
    "\n",
    "    for i in low_med_high:    \n",
    "        fifa21_trainning[i] = fifa21_trainning[i].map(low_med_high_dict)\n",
    "\n",
    "    fifa21_trainning['A/W'] = fifa21_trainning['A/W'].fillna(1)\n",
    "    fifa21_trainning['D/W'] = fifa21_trainning['D/W'].fillna(1)\n",
    "    fifa21_trainning[\"Hits\"] = fifa21_trainning[\"Hits\"].apply(lambda x: parse_hits(x))\n",
    "    fifa21_trainning['Hits'] = fifa21_trainning['Hits'].astype('int64')\n",
    "    fifa21_trainning[\"Nationality\"] = fifa21_trainning[\"Nationality\"].apply(lambda x: continent(x))\n",
    "\n",
    "    list_to_dummify = ['foot','Nationality','BP']\n",
    "    to_dummify = fifa21_trainning[list_to_dummify]\n",
    "    \n",
    "    fifa21_trainning.drop(columns=['Unnamed: 0','Club','Position',\n",
    "                                   'Team & Contract','Loan Date End'], axis = 1, inplace = True)\n",
    "    y = fifa21_trainning['OVA']\n",
    "    fifa21_trainning.drop(columns=['OVA'], inplace = True)\n",
    "    fifa21_trainning['OVA'] = y\n",
    "\n",
    "    return fifa21_trainning"
   ]
  },
  {
   "cell_type": "code",
   "execution_count": 6,
   "metadata": {},
   "outputs": [
    {
     "data": {
      "text/html": [
       "<div>\n",
       "<style scoped>\n",
       "    .dataframe tbody tr th:only-of-type {\n",
       "        vertical-align: middle;\n",
       "    }\n",
       "\n",
       "    .dataframe tbody tr th {\n",
       "        vertical-align: top;\n",
       "    }\n",
       "\n",
       "    .dataframe thead th {\n",
       "        text-align: right;\n",
       "    }\n",
       "</style>\n",
       "<table border=\"1\" class=\"dataframe\">\n",
       "  <thead>\n",
       "    <tr style=\"text-align: right;\">\n",
       "      <th></th>\n",
       "      <th>Unnamed: 0</th>\n",
       "      <th>ID</th>\n",
       "      <th>Name</th>\n",
       "      <th>Age</th>\n",
       "      <th>Nationality</th>\n",
       "      <th>Club</th>\n",
       "      <th>BP</th>\n",
       "      <th>Position</th>\n",
       "      <th>Team &amp; Contract</th>\n",
       "      <th>Height</th>\n",
       "      <th>...</th>\n",
       "      <th>CDM</th>\n",
       "      <th>RDM</th>\n",
       "      <th>RWB</th>\n",
       "      <th>LB</th>\n",
       "      <th>LCB</th>\n",
       "      <th>CB</th>\n",
       "      <th>RCB</th>\n",
       "      <th>RB</th>\n",
       "      <th>GK</th>\n",
       "      <th>OVA</th>\n",
       "    </tr>\n",
       "  </thead>\n",
       "  <tbody>\n",
       "    <tr>\n",
       "      <th>0</th>\n",
       "      <td>1954</td>\n",
       "      <td>184383</td>\n",
       "      <td>A. Pasche</td>\n",
       "      <td>26</td>\n",
       "      <td>Switzerland</td>\n",
       "      <td>FC Lausanne-Sport</td>\n",
       "      <td>CM</td>\n",
       "      <td>CM CDM</td>\n",
       "      <td>FC Lausanne-Sport 2015 ~ 2020</td>\n",
       "      <td>5'9\"</td>\n",
       "      <td>...</td>\n",
       "      <td>59+1</td>\n",
       "      <td>59+1</td>\n",
       "      <td>59+1</td>\n",
       "      <td>58+1</td>\n",
       "      <td>54+1</td>\n",
       "      <td>54+1</td>\n",
       "      <td>54+1</td>\n",
       "      <td>58+1</td>\n",
       "      <td>15+1</td>\n",
       "      <td>64</td>\n",
       "    </tr>\n",
       "    <tr>\n",
       "      <th>1</th>\n",
       "      <td>2225</td>\n",
       "      <td>188044</td>\n",
       "      <td>Alan Carvalho</td>\n",
       "      <td>30</td>\n",
       "      <td>China PR</td>\n",
       "      <td>Beijing Sinobo Guoan FC</td>\n",
       "      <td>ST</td>\n",
       "      <td>ST LW LM</td>\n",
       "      <td>Beijing Sinobo Guoan FC Dec 31, 2020 On Loan</td>\n",
       "      <td>6'0\"</td>\n",
       "      <td>...</td>\n",
       "      <td>53+2</td>\n",
       "      <td>53+2</td>\n",
       "      <td>57+2</td>\n",
       "      <td>53+2</td>\n",
       "      <td>48+2</td>\n",
       "      <td>48+2</td>\n",
       "      <td>48+2</td>\n",
       "      <td>53+2</td>\n",
       "      <td>18+2</td>\n",
       "      <td>77</td>\n",
       "    </tr>\n",
       "    <tr>\n",
       "      <th>2</th>\n",
       "      <td>1959</td>\n",
       "      <td>184431</td>\n",
       "      <td>S. Giovinco</td>\n",
       "      <td>33</td>\n",
       "      <td>Italy</td>\n",
       "      <td>Al Hilal</td>\n",
       "      <td>CAM</td>\n",
       "      <td>CAM CF</td>\n",
       "      <td>Al Hilal 2019 ~ 2022</td>\n",
       "      <td>5'4\"</td>\n",
       "      <td>...</td>\n",
       "      <td>56+2</td>\n",
       "      <td>56+2</td>\n",
       "      <td>59+2</td>\n",
       "      <td>53+2</td>\n",
       "      <td>41+2</td>\n",
       "      <td>41+2</td>\n",
       "      <td>41+2</td>\n",
       "      <td>53+2</td>\n",
       "      <td>12+2</td>\n",
       "      <td>80</td>\n",
       "    </tr>\n",
       "    <tr>\n",
       "      <th>3</th>\n",
       "      <td>9815</td>\n",
       "      <td>233796</td>\n",
       "      <td>J. Evans</td>\n",
       "      <td>22</td>\n",
       "      <td>Wales</td>\n",
       "      <td>Swansea City</td>\n",
       "      <td>CDM</td>\n",
       "      <td>CDM CM</td>\n",
       "      <td>Swansea City 2016 ~ 2021</td>\n",
       "      <td>5'10\"</td>\n",
       "      <td>...</td>\n",
       "      <td>58+2</td>\n",
       "      <td>58+2</td>\n",
       "      <td>56+2</td>\n",
       "      <td>57+2</td>\n",
       "      <td>58+2</td>\n",
       "      <td>58+2</td>\n",
       "      <td>58+2</td>\n",
       "      <td>57+2</td>\n",
       "      <td>14+2</td>\n",
       "      <td>59</td>\n",
       "    </tr>\n",
       "    <tr>\n",
       "      <th>4</th>\n",
       "      <td>10074</td>\n",
       "      <td>234799</td>\n",
       "      <td>Y. Demoncy</td>\n",
       "      <td>23</td>\n",
       "      <td>France</td>\n",
       "      <td>US Orléans Loiret Football</td>\n",
       "      <td>CDM</td>\n",
       "      <td>CDM CM</td>\n",
       "      <td>US Orléans Loiret Football 2018 ~ 2021</td>\n",
       "      <td>5'11\"</td>\n",
       "      <td>...</td>\n",
       "      <td>64+2</td>\n",
       "      <td>64+2</td>\n",
       "      <td>64+2</td>\n",
       "      <td>63+2</td>\n",
       "      <td>61+2</td>\n",
       "      <td>61+2</td>\n",
       "      <td>61+2</td>\n",
       "      <td>63+2</td>\n",
       "      <td>15+2</td>\n",
       "      <td>65</td>\n",
       "    </tr>\n",
       "  </tbody>\n",
       "</table>\n",
       "<p>5 rows × 102 columns</p>\n",
       "</div>"
      ],
      "text/plain": [
       "   Unnamed: 0      ID           Name  Age  Nationality  \\\n",
       "0        1954  184383      A. Pasche   26  Switzerland   \n",
       "1        2225  188044  Alan Carvalho   30     China PR   \n",
       "2        1959  184431    S. Giovinco   33        Italy   \n",
       "3        9815  233796       J. Evans   22        Wales   \n",
       "4       10074  234799     Y. Demoncy   23       France   \n",
       "\n",
       "                         Club   BP  Position  \\\n",
       "0           FC Lausanne-Sport   CM    CM CDM   \n",
       "1     Beijing Sinobo Guoan FC   ST  ST LW LM   \n",
       "2                    Al Hilal  CAM    CAM CF   \n",
       "3                Swansea City  CDM    CDM CM   \n",
       "4  US Orléans Loiret Football  CDM    CDM CM   \n",
       "\n",
       "                                Team & Contract Height  ...   CDM   RDM   RWB  \\\n",
       "0                 FC Lausanne-Sport 2015 ~ 2020   5'9\"  ...  59+1  59+1  59+1   \n",
       "1  Beijing Sinobo Guoan FC Dec 31, 2020 On Loan   6'0\"  ...  53+2  53+2  57+2   \n",
       "2                          Al Hilal 2019 ~ 2022   5'4\"  ...  56+2  56+2  59+2   \n",
       "3                      Swansea City 2016 ~ 2021  5'10\"  ...  58+2  58+2  56+2   \n",
       "4        US Orléans Loiret Football 2018 ~ 2021  5'11\"  ...  64+2  64+2  64+2   \n",
       "\n",
       "     LB   LCB    CB   RCB    RB    GK  OVA  \n",
       "0  58+1  54+1  54+1  54+1  58+1  15+1   64  \n",
       "1  53+2  48+2  48+2  48+2  53+2  18+2   77  \n",
       "2  53+2  41+2  41+2  41+2  53+2  12+2   80  \n",
       "3  57+2  58+2  58+2  58+2  57+2  14+2   59  \n",
       "4  63+2  61+2  61+2  61+2  63+2  15+2   65  \n",
       "\n",
       "[5 rows x 102 columns]"
      ]
     },
     "execution_count": 6,
     "metadata": {},
     "output_type": "execute_result"
    }
   ],
   "source": [
    "data.head()"
   ]
  },
  {
   "cell_type": "code",
   "execution_count": 7,
   "metadata": {},
   "outputs": [
    {
     "data": {
      "text/plain": [
       "0    64\n",
       "1    77\n",
       "2    80\n",
       "3    59\n",
       "4    65\n",
       "Name: OVA, dtype: int64"
      ]
     },
     "execution_count": 7,
     "metadata": {},
     "output_type": "execute_result"
    }
   ],
   "source": [
    "data['OVA'].head()"
   ]
  },
  {
   "cell_type": "markdown",
   "metadata": {},
   "source": [
    "# 3. Function to train the linear model"
   ]
  },
  {
   "cell_type": "code",
   "execution_count": 8,
   "metadata": {
    "slideshow": {
     "slide_type": "fragment"
    }
   },
   "outputs": [],
   "source": [
    "# Function to train a model with a given X and y.\n",
    "def train_model(X, y):\n",
    "    \"\"\"\n",
    "    Params:\n",
    "        X: a set of feature columns\n",
    "        y: a target column\n",
    "    Returns: A trained LinearRegression() model\n",
    "    \"\"\"\n",
    "    model = LinearRegression()\n",
    "    model.fit(X, y)\n",
    "    return model"
   ]
  },
  {
   "cell_type": "markdown",
   "metadata": {},
   "source": [
    "# 4. Splitting data"
   ]
  },
  {
   "cell_type": "code",
   "execution_count": 9,
   "metadata": {},
   "outputs": [],
   "source": [
    "data_clean = clean_dataset(data)\n",
    "\n",
    "# Seperating features and label\n",
    "y = data_clean['OVA']\n",
    "X = data_clean.drop(columns=['OVA','ID','Name'], axis = 1)\n",
    "\n",
    "X_num = X.select_dtypes(np.number)\n",
    "X_cat = X.select_dtypes(np.object)"
   ]
  },
  {
   "cell_type": "markdown",
   "metadata": {},
   "source": [
    "# Numericals"
   ]
  },
  {
   "cell_type": "markdown",
   "metadata": {},
   "source": [
    "## Correlation matrix"
   ]
  },
  {
   "cell_type": "code",
   "execution_count": 10,
   "metadata": {},
   "outputs": [
    {
     "name": "stdout",
     "output_type": "stream",
     "text": [
      "Age       0.519422\n",
      "Height    0.028974\n",
      "Weight    0.150692\n",
      "Growth    0.596555\n",
      "Joined    0.213253\n",
      "            ...   \n",
      "LW1       0.424891\n",
      "LF1       0.452413\n",
      "CF1       0.452413\n",
      "RF1       0.452413\n",
      "OVA       1.000000\n",
      "Name: OVA, Length: 118, dtype: float64\n"
     ]
    },
    {
     "data": {
      "image/png": "[encoded data removed]",
      "text/plain": [
       "<Figure size 432x288 with 2 Axes>"
      ]
     },
     "metadata": {
      "needs_background": "light"
     },
     "output_type": "display_data"
    }
   ],
   "source": [
    "import seaborn as sns\n",
    "\n",
    "df = pd.concat([X_num,y], axis = 1)\n",
    "corr_mat = abs(df.corr())\n",
    "print(corr_mat.iloc[:,-1])\n",
    "dfc = corr_mat.iloc[:,-1]\n",
    "dfc[dfc > 0.65]\n",
    "\n",
    "corr_new = df[['Reactions','Composure','Base Stats','PAS','OVA']].corr()\n",
    "sns.heatmap(corr_new, annot = True);"
   ]
  },
  {
   "cell_type": "markdown",
   "metadata": {},
   "source": [
    "According to the correlation matrix, the best numerical features to use are:\n",
    "    \n",
    "* Reactions\n",
    "* Composure\n",
    "* Base Stats"
   ]
  },
  {
   "cell_type": "code",
   "execution_count": 11,
   "metadata": {},
   "outputs": [],
   "source": [
    "X_num = X_num[['Reactions','Composure','Base Stats']]"
   ]
  },
  {
   "cell_type": "markdown",
   "metadata": {},
   "source": [
    "# Categoricals"
   ]
  },
  {
   "cell_type": "code",
   "execution_count": 12,
   "metadata": {},
   "outputs": [
    {
     "data": {
      "text/html": [
       "<div>\n",
       "<style scoped>\n",
       "    .dataframe tbody tr th:only-of-type {\n",
       "        vertical-align: middle;\n",
       "    }\n",
       "\n",
       "    .dataframe tbody tr th {\n",
       "        vertical-align: top;\n",
       "    }\n",
       "\n",
       "    .dataframe thead th {\n",
       "        text-align: right;\n",
       "    }\n",
       "</style>\n",
       "<table border=\"1\" class=\"dataframe\">\n",
       "  <thead>\n",
       "    <tr style=\"text-align: right;\">\n",
       "      <th></th>\n",
       "      <th>Nationality</th>\n",
       "      <th>BP</th>\n",
       "      <th>foot</th>\n",
       "      <th>Contract</th>\n",
       "    </tr>\n",
       "  </thead>\n",
       "  <tbody>\n",
       "    <tr>\n",
       "      <th>0</th>\n",
       "      <td>Europe</td>\n",
       "      <td>CM</td>\n",
       "      <td>Right</td>\n",
       "      <td>2015 ~ 2020</td>\n",
       "    </tr>\n",
       "    <tr>\n",
       "      <th>1</th>\n",
       "      <td>Europe</td>\n",
       "      <td>ST</td>\n",
       "      <td>Right</td>\n",
       "      <td>Dec 31, 2020 On Loan</td>\n",
       "    </tr>\n",
       "    <tr>\n",
       "      <th>2</th>\n",
       "      <td>Europe</td>\n",
       "      <td>CAM</td>\n",
       "      <td>Right</td>\n",
       "      <td>2019 ~ 2022</td>\n",
       "    </tr>\n",
       "    <tr>\n",
       "      <th>3</th>\n",
       "      <td>Europe</td>\n",
       "      <td>CDM</td>\n",
       "      <td>Right</td>\n",
       "      <td>2016 ~ 2021</td>\n",
       "    </tr>\n",
       "    <tr>\n",
       "      <th>4</th>\n",
       "      <td>Europe</td>\n",
       "      <td>CDM</td>\n",
       "      <td>Right</td>\n",
       "      <td>2018 ~ 2021</td>\n",
       "    </tr>\n",
       "  </tbody>\n",
       "</table>\n",
       "</div>"
      ],
      "text/plain": [
       "  Nationality   BP   foot              Contract\n",
       "0      Europe   CM  Right           2015 ~ 2020\n",
       "1      Europe   ST  Right  Dec 31, 2020 On Loan\n",
       "2      Europe  CAM  Right           2019 ~ 2022\n",
       "3      Europe  CDM  Right           2016 ~ 2021\n",
       "4      Europe  CDM  Right           2018 ~ 2021"
      ]
     },
     "execution_count": 12,
     "metadata": {},
     "output_type": "execute_result"
    }
   ],
   "source": [
    "X_cat.head()"
   ]
  },
  {
   "cell_type": "markdown",
   "metadata": {},
   "source": [
    "Contract column, doesn't make any sense to predict 'OVA'. Therefore, we can drop it. "
   ]
  },
  {
   "cell_type": "code",
   "execution_count": 13,
   "metadata": {},
   "outputs": [
    {
     "name": "stderr",
     "output_type": "stream",
     "text": [
      "/home/flo/anaconda3/envs/ironhack/lib/python3.8/site-packages/pandas/core/frame.py:4163: SettingWithCopyWarning: \n",
      "A value is trying to be set on a copy of a slice from a DataFrame\n",
      "\n",
      "See the caveats in the documentation: https://pandas.pydata.org/pandas-docs/stable/user_guide/indexing.html#returning-a-view-versus-a-copy\n",
      "  return super().drop(\n"
     ]
    }
   ],
   "source": [
    "X_cat.drop(columns='Contract', axis = 1, inplace = True)"
   ]
  },
  {
   "cell_type": "markdown",
   "metadata": {},
   "source": [
    "## Getting the levels each categorical feature."
   ]
  },
  {
   "cell_type": "code",
   "execution_count": 14,
   "metadata": {},
   "outputs": [
    {
     "name": "stdout",
     "output_type": "stream",
     "text": [
      "Column:  Nationality\n",
      "========================\n"
     ]
    },
    {
     "data": {
      "image/png": "[encoded data removed]",
      "text/plain": [
       "<Figure size 432x288 with 1 Axes>"
      ]
     },
     "metadata": {
      "needs_background": "light"
     },
     "output_type": "display_data"
    },
    {
     "name": "stdout",
     "output_type": "stream",
     "text": [
      "========================\n",
      "Column:  BP\n",
      "========================\n"
     ]
    },
    {
     "data": {
      "image/png": "[encoded data removed]",
      "text/plain": [
       "<Figure size 432x288 with 1 Axes>"
      ]
     },
     "metadata": {
      "needs_background": "light"
     },
     "output_type": "display_data"
    },
    {
     "name": "stdout",
     "output_type": "stream",
     "text": [
      "========================\n",
      "Column:  foot\n",
      "========================\n"
     ]
    },
    {
     "data": {
      "image/png": "[encoded data removed]",
      "text/plain": [
       "<Figure size 432x288 with 1 Axes>"
      ]
     },
     "metadata": {
      "needs_background": "light"
     },
     "output_type": "display_data"
    },
    {
     "name": "stdout",
     "output_type": "stream",
     "text": [
      "========================\n"
     ]
    }
   ],
   "source": [
    "for c in X_cat.columns:\n",
    "    print(\"Column: \", c)\n",
    "    print(\"========================\")\n",
    "    sns.countplot(x=c, data=X_cat)\n",
    "    plt.show()\n",
    "    print(\"========================\")\n",
    "    "
   ]
  },
  {
   "cell_type": "markdown",
   "metadata": {},
   "source": [
    "Clearly we can see that in the dataset all the players are from `Europe`. Therefore, the model will not be able to predict any player not from `Europe` as there are no samples in the dataset. Then we can't use `Nationality`; it must be dropped.\n",
    "\n",
    "In addition, the for remaining variables: `BP` and `foot` the all the possible values are not evenly sampled. Therefore, we can expect that the model will predict better the players for which the corresponding values in those features are more represented. We're not going to deal with this problem yet."
   ]
  },
  {
   "cell_type": "code",
   "execution_count": 15,
   "metadata": {},
   "outputs": [
    {
     "name": "stderr",
     "output_type": "stream",
     "text": [
      "/home/flo/anaconda3/envs/ironhack/lib/python3.8/site-packages/pandas/core/frame.py:4163: SettingWithCopyWarning: \n",
      "A value is trying to be set on a copy of a slice from a DataFrame\n",
      "\n",
      "See the caveats in the documentation: https://pandas.pydata.org/pandas-docs/stable/user_guide/indexing.html#returning-a-view-versus-a-copy\n",
      "  return super().drop(\n"
     ]
    },
    {
     "data": {
      "text/html": [
       "<div>\n",
       "<style scoped>\n",
       "    .dataframe tbody tr th:only-of-type {\n",
       "        vertical-align: middle;\n",
       "    }\n",
       "\n",
       "    .dataframe tbody tr th {\n",
       "        vertical-align: top;\n",
       "    }\n",
       "\n",
       "    .dataframe thead th {\n",
       "        text-align: right;\n",
       "    }\n",
       "</style>\n",
       "<table border=\"1\" class=\"dataframe\">\n",
       "  <thead>\n",
       "    <tr style=\"text-align: right;\">\n",
       "      <th></th>\n",
       "      <th>BP</th>\n",
       "      <th>foot</th>\n",
       "    </tr>\n",
       "  </thead>\n",
       "  <tbody>\n",
       "    <tr>\n",
       "      <th>0</th>\n",
       "      <td>CM</td>\n",
       "      <td>Right</td>\n",
       "    </tr>\n",
       "    <tr>\n",
       "      <th>1</th>\n",
       "      <td>ST</td>\n",
       "      <td>Right</td>\n",
       "    </tr>\n",
       "    <tr>\n",
       "      <th>2</th>\n",
       "      <td>CAM</td>\n",
       "      <td>Right</td>\n",
       "    </tr>\n",
       "    <tr>\n",
       "      <th>3</th>\n",
       "      <td>CDM</td>\n",
       "      <td>Right</td>\n",
       "    </tr>\n",
       "    <tr>\n",
       "      <th>4</th>\n",
       "      <td>CDM</td>\n",
       "      <td>Right</td>\n",
       "    </tr>\n",
       "  </tbody>\n",
       "</table>\n",
       "</div>"
      ],
      "text/plain": [
       "    BP   foot\n",
       "0   CM  Right\n",
       "1   ST  Right\n",
       "2  CAM  Right\n",
       "3  CDM  Right\n",
       "4  CDM  Right"
      ]
     },
     "execution_count": 15,
     "metadata": {},
     "output_type": "execute_result"
    }
   ],
   "source": [
    "X_cat.drop(columns='Nationality', axis = 1, inplace = True)\n",
    "X_cat.head()"
   ]
  },
  {
   "cell_type": "markdown",
   "metadata": {},
   "source": [
    "## Dealing with categoricals"
   ]
  },
  {
   "cell_type": "markdown",
   "metadata": {},
   "source": [
    "The variable `foot` is boolean, therefore we will not dummify it. We will make it boolean."
   ]
  },
  {
   "cell_type": "code",
   "execution_count": 16,
   "metadata": {},
   "outputs": [
    {
     "name": "stderr",
     "output_type": "stream",
     "text": [
      "<ipython-input-16-fb4f0a95a0e0>:1: SettingWithCopyWarning: \n",
      "A value is trying to be set on a copy of a slice from a DataFrame.\n",
      "Try using .loc[row_indexer,col_indexer] = value instead\n",
      "\n",
      "See the caveats in the documentation: https://pandas.pydata.org/pandas-docs/stable/user_guide/indexing.html#returning-a-view-versus-a-copy\n",
      "  X_cat['foot'] = np.where(X_cat['foot'] == 'Left',1,0)\n"
     ]
    },
    {
     "data": {
      "text/plain": [
       "0    0\n",
       "1    0\n",
       "2    0\n",
       "3    0\n",
       "4    0\n",
       "Name: foot, dtype: int64"
      ]
     },
     "execution_count": 16,
     "metadata": {},
     "output_type": "execute_result"
    }
   ],
   "source": [
    "X_cat['foot'] = np.where(X_cat['foot'] == 'Left',1,0)\n",
    "X_cat['foot'].head()"
   ]
  },
  {
   "cell_type": "code",
   "execution_count": 17,
   "metadata": {},
   "outputs": [
    {
     "data": {
      "text/html": [
       "<div>\n",
       "<style scoped>\n",
       "    .dataframe tbody tr th:only-of-type {\n",
       "        vertical-align: middle;\n",
       "    }\n",
       "\n",
       "    .dataframe tbody tr th {\n",
       "        vertical-align: top;\n",
       "    }\n",
       "\n",
       "    .dataframe thead th {\n",
       "        text-align: right;\n",
       "    }\n",
       "</style>\n",
       "<table border=\"1\" class=\"dataframe\">\n",
       "  <thead>\n",
       "    <tr style=\"text-align: right;\">\n",
       "      <th></th>\n",
       "      <th>CB</th>\n",
       "      <th>CDM</th>\n",
       "      <th>CF</th>\n",
       "      <th>CM</th>\n",
       "      <th>GK</th>\n",
       "      <th>LB</th>\n",
       "      <th>LM</th>\n",
       "      <th>LW</th>\n",
       "      <th>LWB</th>\n",
       "      <th>RB</th>\n",
       "      <th>RM</th>\n",
       "      <th>RW</th>\n",
       "      <th>RWB</th>\n",
       "      <th>ST</th>\n",
       "      <th>foot</th>\n",
       "    </tr>\n",
       "  </thead>\n",
       "  <tbody>\n",
       "    <tr>\n",
       "      <th>0</th>\n",
       "      <td>0</td>\n",
       "      <td>0</td>\n",
       "      <td>0</td>\n",
       "      <td>1</td>\n",
       "      <td>0</td>\n",
       "      <td>0</td>\n",
       "      <td>0</td>\n",
       "      <td>0</td>\n",
       "      <td>0</td>\n",
       "      <td>0</td>\n",
       "      <td>0</td>\n",
       "      <td>0</td>\n",
       "      <td>0</td>\n",
       "      <td>0</td>\n",
       "      <td>0</td>\n",
       "    </tr>\n",
       "    <tr>\n",
       "      <th>1</th>\n",
       "      <td>0</td>\n",
       "      <td>0</td>\n",
       "      <td>0</td>\n",
       "      <td>0</td>\n",
       "      <td>0</td>\n",
       "      <td>0</td>\n",
       "      <td>0</td>\n",
       "      <td>0</td>\n",
       "      <td>0</td>\n",
       "      <td>0</td>\n",
       "      <td>0</td>\n",
       "      <td>0</td>\n",
       "      <td>0</td>\n",
       "      <td>1</td>\n",
       "      <td>0</td>\n",
       "    </tr>\n",
       "    <tr>\n",
       "      <th>2</th>\n",
       "      <td>0</td>\n",
       "      <td>0</td>\n",
       "      <td>0</td>\n",
       "      <td>0</td>\n",
       "      <td>0</td>\n",
       "      <td>0</td>\n",
       "      <td>0</td>\n",
       "      <td>0</td>\n",
       "      <td>0</td>\n",
       "      <td>0</td>\n",
       "      <td>0</td>\n",
       "      <td>0</td>\n",
       "      <td>0</td>\n",
       "      <td>0</td>\n",
       "      <td>0</td>\n",
       "    </tr>\n",
       "    <tr>\n",
       "      <th>3</th>\n",
       "      <td>0</td>\n",
       "      <td>1</td>\n",
       "      <td>0</td>\n",
       "      <td>0</td>\n",
       "      <td>0</td>\n",
       "      <td>0</td>\n",
       "      <td>0</td>\n",
       "      <td>0</td>\n",
       "      <td>0</td>\n",
       "      <td>0</td>\n",
       "      <td>0</td>\n",
       "      <td>0</td>\n",
       "      <td>0</td>\n",
       "      <td>0</td>\n",
       "      <td>0</td>\n",
       "    </tr>\n",
       "    <tr>\n",
       "      <th>4</th>\n",
       "      <td>0</td>\n",
       "      <td>1</td>\n",
       "      <td>0</td>\n",
       "      <td>0</td>\n",
       "      <td>0</td>\n",
       "      <td>0</td>\n",
       "      <td>0</td>\n",
       "      <td>0</td>\n",
       "      <td>0</td>\n",
       "      <td>0</td>\n",
       "      <td>0</td>\n",
       "      <td>0</td>\n",
       "      <td>0</td>\n",
       "      <td>0</td>\n",
       "      <td>0</td>\n",
       "    </tr>\n",
       "  </tbody>\n",
       "</table>\n",
       "</div>"
      ],
      "text/plain": [
       "   CB  CDM  CF  CM  GK  LB  LM  LW  LWB  RB  RM  RW  RWB  ST  foot\n",
       "0   0    0   0   1   0   0   0   0    0   0   0   0    0   0     0\n",
       "1   0    0   0   0   0   0   0   0    0   0   0   0    0   1     0\n",
       "2   0    0   0   0   0   0   0   0    0   0   0   0    0   0     0\n",
       "3   0    1   0   0   0   0   0   0    0   0   0   0    0   0     0\n",
       "4   0    1   0   0   0   0   0   0    0   0   0   0    0   0     0"
      ]
     },
     "execution_count": 17,
     "metadata": {},
     "output_type": "execute_result"
    }
   ],
   "source": [
    "import pickle\n",
    "\n",
    "X_cat_dum = pd.get_dummies(X_cat['BP'], drop_first=True)\n",
    "bp_list = list(X_cat_dum.columns)\n",
    "\n",
    "file_name = \"bp_levels.pkl\"\n",
    "\n",
    "open_file = open(file_name, \"wb\")\n",
    "pickle.dump(bp_list, open_file)\n",
    "open_file.close()\n",
    "\n",
    "X_cat_dum = pd.concat([X_cat_dum,X_cat['foot']], axis = 1)\n",
    "X_cat_dum.head()"
   ]
  },
  {
   "cell_type": "markdown",
   "metadata": {},
   "source": [
    "# Merging numerical and categoricals back"
   ]
  },
  {
   "cell_type": "code",
   "execution_count": 18,
   "metadata": {},
   "outputs": [
    {
     "data": {
      "text/html": [
       "<div>\n",
       "<style scoped>\n",
       "    .dataframe tbody tr th:only-of-type {\n",
       "        vertical-align: middle;\n",
       "    }\n",
       "\n",
       "    .dataframe tbody tr th {\n",
       "        vertical-align: top;\n",
       "    }\n",
       "\n",
       "    .dataframe thead th {\n",
       "        text-align: right;\n",
       "    }\n",
       "</style>\n",
       "<table border=\"1\" class=\"dataframe\">\n",
       "  <thead>\n",
       "    <tr style=\"text-align: right;\">\n",
       "      <th></th>\n",
       "      <th>Reactions</th>\n",
       "      <th>Composure</th>\n",
       "      <th>Base Stats</th>\n",
       "      <th>CB</th>\n",
       "      <th>CDM</th>\n",
       "      <th>CF</th>\n",
       "      <th>CM</th>\n",
       "      <th>GK</th>\n",
       "      <th>LB</th>\n",
       "      <th>LM</th>\n",
       "      <th>LW</th>\n",
       "      <th>LWB</th>\n",
       "      <th>RB</th>\n",
       "      <th>RM</th>\n",
       "      <th>RW</th>\n",
       "      <th>RWB</th>\n",
       "      <th>ST</th>\n",
       "      <th>foot</th>\n",
       "    </tr>\n",
       "  </thead>\n",
       "  <tbody>\n",
       "    <tr>\n",
       "      <th>0</th>\n",
       "      <td>66</td>\n",
       "      <td>54.0</td>\n",
       "      <td>357</td>\n",
       "      <td>0</td>\n",
       "      <td>0</td>\n",
       "      <td>0</td>\n",
       "      <td>1</td>\n",
       "      <td>0</td>\n",
       "      <td>0</td>\n",
       "      <td>0</td>\n",
       "      <td>0</td>\n",
       "      <td>0</td>\n",
       "      <td>0</td>\n",
       "      <td>0</td>\n",
       "      <td>0</td>\n",
       "      <td>0</td>\n",
       "      <td>0</td>\n",
       "      <td>0</td>\n",
       "    </tr>\n",
       "    <tr>\n",
       "      <th>1</th>\n",
       "      <td>75</td>\n",
       "      <td>70.0</td>\n",
       "      <td>412</td>\n",
       "      <td>0</td>\n",
       "      <td>0</td>\n",
       "      <td>0</td>\n",
       "      <td>0</td>\n",
       "      <td>0</td>\n",
       "      <td>0</td>\n",
       "      <td>0</td>\n",
       "      <td>0</td>\n",
       "      <td>0</td>\n",
       "      <td>0</td>\n",
       "      <td>0</td>\n",
       "      <td>0</td>\n",
       "      <td>0</td>\n",
       "      <td>1</td>\n",
       "      <td>0</td>\n",
       "    </tr>\n",
       "    <tr>\n",
       "      <th>2</th>\n",
       "      <td>78</td>\n",
       "      <td>82.0</td>\n",
       "      <td>404</td>\n",
       "      <td>0</td>\n",
       "      <td>0</td>\n",
       "      <td>0</td>\n",
       "      <td>0</td>\n",
       "      <td>0</td>\n",
       "      <td>0</td>\n",
       "      <td>0</td>\n",
       "      <td>0</td>\n",
       "      <td>0</td>\n",
       "      <td>0</td>\n",
       "      <td>0</td>\n",
       "      <td>0</td>\n",
       "      <td>0</td>\n",
       "      <td>0</td>\n",
       "      <td>0</td>\n",
       "    </tr>\n",
       "    <tr>\n",
       "      <th>3</th>\n",
       "      <td>55</td>\n",
       "      <td>48.0</td>\n",
       "      <td>329</td>\n",
       "      <td>0</td>\n",
       "      <td>1</td>\n",
       "      <td>0</td>\n",
       "      <td>0</td>\n",
       "      <td>0</td>\n",
       "      <td>0</td>\n",
       "      <td>0</td>\n",
       "      <td>0</td>\n",
       "      <td>0</td>\n",
       "      <td>0</td>\n",
       "      <td>0</td>\n",
       "      <td>0</td>\n",
       "      <td>0</td>\n",
       "      <td>0</td>\n",
       "      <td>0</td>\n",
       "    </tr>\n",
       "    <tr>\n",
       "      <th>4</th>\n",
       "      <td>62</td>\n",
       "      <td>58.0</td>\n",
       "      <td>360</td>\n",
       "      <td>0</td>\n",
       "      <td>1</td>\n",
       "      <td>0</td>\n",
       "      <td>0</td>\n",
       "      <td>0</td>\n",
       "      <td>0</td>\n",
       "      <td>0</td>\n",
       "      <td>0</td>\n",
       "      <td>0</td>\n",
       "      <td>0</td>\n",
       "      <td>0</td>\n",
       "      <td>0</td>\n",
       "      <td>0</td>\n",
       "      <td>0</td>\n",
       "      <td>0</td>\n",
       "    </tr>\n",
       "  </tbody>\n",
       "</table>\n",
       "</div>"
      ],
      "text/plain": [
       "   Reactions  Composure  Base Stats  CB  CDM  CF  CM  GK  LB  LM  LW  LWB  RB  \\\n",
       "0         66       54.0         357   0    0   0   1   0   0   0   0    0   0   \n",
       "1         75       70.0         412   0    0   0   0   0   0   0   0    0   0   \n",
       "2         78       82.0         404   0    0   0   0   0   0   0   0    0   0   \n",
       "3         55       48.0         329   0    1   0   0   0   0   0   0    0   0   \n",
       "4         62       58.0         360   0    1   0   0   0   0   0   0    0   0   \n",
       "\n",
       "   RM  RW  RWB  ST  foot  \n",
       "0   0   0    0   0     0  \n",
       "1   0   0    0   1     0  \n",
       "2   0   0    0   0     0  \n",
       "3   0   0    0   0     0  \n",
       "4   0   0    0   0     0  "
      ]
     },
     "metadata": {},
     "output_type": "display_data"
    }
   ],
   "source": [
    "from sklearn.model_selection import train_test_split\n",
    "\n",
    "y = data_clean['OVA']\n",
    "X = pd.concat([X_num,X_cat_dum], axis = 1)\n",
    "\n",
    "display(X.head())\n",
    "\n",
    "X_train, X_test, y_train, y_test = train_test_split(X, y, test_size=0.33, random_state=42)\n",
    "\n",
    "standard = StandardScaler()\n",
    "X_train_scaled = standard.fit_transform(X_train)\n",
    "X_test_scaled  = standard.transform(X_test)\n"
   ]
  },
  {
   "cell_type": "markdown",
   "metadata": {},
   "source": [
    "# Train-test split"
   ]
  },
  {
   "cell_type": "code",
   "execution_count": 19,
   "metadata": {},
   "outputs": [
    {
     "data": {
      "text/plain": [
       "['standard_scaler.joblib']"
      ]
     },
     "execution_count": 19,
     "metadata": {},
     "output_type": "execute_result"
    }
   ],
   "source": [
    "from joblib import dump\n",
    "from joblib import load\n",
    "\n",
    "X_train, X_test, y_train, y_test = train_test_split(X, y, test_size=0.33, random_state=42)\n",
    "\n",
    "standard = StandardScaler()\n",
    "X_train_scaled = standard.fit_transform(X_train)\n",
    "X_test_scaled  = standard.transform(X_test)\n",
    "\n",
    "X_train_scaled = pd.DataFrame(X_train_scaled, columns = X_train.columns)\n",
    "X_test_scaled  = pd.DataFrame(X_test_scaled,  columns = X_test.columns)\n",
    "\n",
    "X_train_scaled.head()\n",
    "\n",
    "# Saving the scaler\n",
    "dump(standard, 'standard_scaler.joblib')"
   ]
  },
  {
   "cell_type": "markdown",
   "metadata": {},
   "source": [
    "# Creating and storing the model"
   ]
  },
  {
   "cell_type": "code",
   "execution_count": 20,
   "metadata": {},
   "outputs": [],
   "source": [
    "model = train_model(X_train_scaled, y_train)\n",
    "with open('linear_model.pkl', 'wb') as file: \n",
    "    pickle.dump(model, file)"
   ]
  },
  {
   "cell_type": "markdown",
   "metadata": {},
   "source": [
    "# Function to plot results"
   ]
  },
  {
   "cell_type": "code",
   "execution_count": 32,
   "metadata": {},
   "outputs": [],
   "source": [
    "def plot_errors(y, y_pred):\n",
    "    \n",
    "    X_plot = np.linspace(0, 100, 1000)\n",
    "    Y_plot = X_plot\n",
    "\n",
    "    fig, ax = plt.subplots()\n",
    "    sns.set(color_codes=True)\n",
    "    sns.set(rc={'figure.figsize':(7, 7)})\n",
    "    plt.ylabel(\"Predicted 'OVA'\")\n",
    "    plt.title(\"Test set: Predictions against real values\")\n",
    "    sns.regplot(x=y, y=y_pred, fit_reg=False, ax=ax,scatter_kws={\"color\": \"green\", \"s\":1})\n",
    "    plt.plot(X_plot, Y_plot, color='r',linewidth=4.)\n",
    "    plt.show()\n",
    "    \n",
    "    sns.displot(y-y_pred, kde=True)\n",
    "    plt.title(\"Train set: Distribution of residuals\")\n",
    "    plt.show()"
   ]
  },
  {
   "cell_type": "code",
   "execution_count": 22,
   "metadata": {},
   "outputs": [],
   "source": [
    "def transform_data(X):\n",
    "    \n",
    "    # Fixing categoricals\n",
    "    X['foot'] = np.where(X['foot'] == 'Left',\n",
    "                         1,\n",
    "                         0)\n",
    "    \n",
    "    # Restoring levels of 'BP'    \n",
    "    open_file = open(file_name, \"rb\")\n",
    "    bp_list = pickle.load(open_file)\n",
    "    open_file.close()\n",
    "    \n",
    "    for col in bp_list:\n",
    "        X[col] = np.where(X['BP'] == col, 1,0)\n",
    "    \n",
    "    X.drop(columns='BP', axis = 1, inplace = True)\n",
    "    \n",
    "    # Merging columns\n",
    "    X = pd.concat([X[['Reactions','Composure','Base Stats']],\n",
    "                   X[bp_list],\n",
    "                   X['foot']],\n",
    "                  axis = 1)\n",
    "    \n",
    "    # Scaling column values\n",
    "    # First loading the scaler\n",
    "    scaler = load('standard_scaler.joblib')\n",
    "    \n",
    "    X_scaled = scaler.transform(X)\n",
    "    X_scaled = pd.DataFrame(X_scaled, columns = X.columns)\n",
    "    \n",
    "    return X_scaled"
   ]
  },
  {
   "cell_type": "markdown",
   "metadata": {
    "id": "Me5LDFOZQW8M"
   },
   "source": [
    "# Function for model validation"
   ]
  },
  {
   "cell_type": "code",
   "execution_count": 23,
   "metadata": {
    "id": "hzIpeQT_QW8N"
   },
   "outputs": [],
   "source": [
    "def validation(model, validation_data):\n",
    "    \n",
    "    data = clean_dataset(validation_data)\n",
    "    \n",
    "    y = data['OVA']\n",
    "    X = data.drop(columns='OVA', axis = 1)\n",
    "\n",
    "    X_scaled = transform_data(X)\n",
    "    \n",
    "    y_pred = model.predict(X_scaled)\n",
    "    \n",
    "    plot_errors(y, y_pred)\n",
    "    \n",
    "    ###Check if your prediction needs rounding here###    \n",
    "    \n",
    "    mae = round(mean_absolute_error(y, y_pred), 2)\n",
    "    mse = round(mean_squared_error(y,y_pred),2)\n",
    "    rmse = round(np.sqrt(mse),2)\n",
    "    mape = round(np.mean((y - y_pred)/y)*100,2)\n",
    "    r2 = round(r2_score(y, y_pred), 2)\n",
    "    \n",
    "    print('MAE:', mae)\n",
    "    print('MSE:', mse)\n",
    "    print('MAPE: {} %'.format(mape))\n",
    "    print('RMSE:', rmse)\n",
    "    print('R2 Score:', r2)\n",
    "    \n",
    "    return mae, mse, rmse, mape, r2"
   ]
  },
  {
   "cell_type": "code",
   "execution_count": 25,
   "metadata": {},
   "outputs": [
    {
     "data": {
      "text/plain": [
       "0    59\n",
       "1    65\n",
       "2    62\n",
       "3    68\n",
       "4    76\n",
       "Name: OVA, dtype: int64"
      ]
     },
     "execution_count": 25,
     "metadata": {},
     "output_type": "execute_result"
    }
   ],
   "source": [
    "validation_data = pd.read_csv('fifa21_validation.csv') \n",
    "validation_data['OVA'].head()"
   ]
  },
  {
   "cell_type": "markdown",
   "metadata": {},
   "source": [
    "# Main program"
   ]
  },
  {
   "cell_type": "code",
   "execution_count": 34,
   "metadata": {
    "id": "7eyVxN_kQW8P"
   },
   "outputs": [
    {
     "data": {
      "image/png": "[encoded data removed]",
      "text/plain": [
       "<Figure size 504x504 with 1 Axes>"
      ]
     },
     "metadata": {},
     "output_type": "display_data"
    },
    {
     "data": {
      "image/png": "[encoded data removed]",
      "text/plain": [
       "<Figure size 360x360 with 1 Axes>"
      ]
     },
     "metadata": {},
     "output_type": "display_data"
    },
    {
     "name": "stdout",
     "output_type": "stream",
     "text": [
      "MAE: 1.95\n",
      "MSE: 6.22\n",
      "MAPE: -0.15 %\n",
      "RMSE: 2.49\n",
      "R2 Score: 0.87\n",
      "Time to process: 0.00040477900074620266  seconds\n"
     ]
    }
   ],
   "source": [
    "import timeit\n",
    "\n",
    "# load validation data\n",
    "# you won't have access to 'fifa21_validation.csv'\n",
    "# create your own validation dataset with your test data\n",
    "validation_data = pd.read_csv('fifa21_validation.csv') \n",
    "\n",
    "#display(validation_data.head())\n",
    "\n",
    "# load model\n",
    "## replace 'your_name' with your actual name\n",
    "with open('linear_model.pkl', 'rb') as file: \n",
    "    model = pickle.load(file)\n",
    "\n",
    "tic = timeit.timeit()     \n",
    "# print metrics\n",
    "mae, mse, rmse, mape, r2 = validation(model, validation_data)\n",
    "\n",
    "toc = timeit.timeit()\n",
    "time = toc-tic\n",
    "\n",
    "print('Time to process:', time, ' seconds')"
   ]
  },
  {
   "cell_type": "markdown",
   "metadata": {},
   "source": [
    "* **MAE**: Mean average error, average of the absolute value of every error, meaning\n",
    "$$\\frac{1}{n} \\sum_{i=1}^n |y_i - \\hat{y}_i|$$\n",
    "\n",
    "Easy to understand, because it's in units of `y`, but doesn't penalize big errors. Therefore not sensitive for big outliers\n",
    "\n",
    "* **MSE**: Mean squared error, Average of the squared errors, meaning\n",
    "$$\\frac{1}{n} \\sum_{i=1}^n (y_i - \\hat{y}_i)^2$$\n",
    "\n",
    "Penalizes big errors (that's a benefit), but not in units of `y` (not that intuitive)\n",
    "\n",
    "* **MAPE**: Mean absolute percentage error, meaning\n",
    "$$\\frac{1}{n} \\sum_{i=1}^n |\\frac{y_i - \\hat{y}_i}{\\hat{y}_i}|$$\n",
    "\n",
    "* **RMSE**: Root mean squared error. MSE but square rooted, meaning \n",
    "$$\\sqrt{\\frac{1}{n} \\sum_{i=1}^n (y_i - \\hat{y}_i)^2}$$\n",
    "\n",
    "Most common, since it can be interpreted in units of `y` **and** penalizes outliers\n",
    "\n",
    "* **R2 score** : How much variance does my model explain? Basically compares the squared errors of my model with a model that bluntly predicts only the mean of my `y` values. Mathematically\n",
    "\n",
    "$$R^2 = 1 - \\frac{\\sum_{i=1}^n (y_i - \\hat{y}_i)^2}{\\sum_{i=1}^n (y_i - \\bar{y}_i)^2}$$"
   ]
  },
  {
   "cell_type": "code",
   "execution_count": null,
   "metadata": {},
   "outputs": [],
   "source": []
  }
 ],
 "metadata": {
  "colab": {
   "name": "jeroen_van_lier FIFA 21 IRONHACK COMPETITION.ipynb",
   "provenance": []
  },
  "kernelspec": {
   "display_name": "Python 3",
   "language": "python",
   "name": "python3"
  },
  "language_info": {
   "codemirror_mode": {
    "name": "ipython",
    "version": 3
   },
   "file_extension": ".py",
   "mimetype": "text/x-python",
   "name": "python",
   "nbconvert_exporter": "python",
   "pygments_lexer": "ipython3",
   "version": "3.8.5"
  },
  "toc": {
   "base_numbering": 1,
   "nav_menu": {},
   "number_sections": true,
   "sideBar": true,
   "skip_h1_title": false,
   "title_cell": "Table of Contents",
   "title_sidebar": "Contents",
   "toc_cell": false,
   "toc_position": {},
   "toc_section_display": true,
   "toc_window_display": true
  },
  "varInspector": {
   "cols": {
    "lenName": 16,
    "lenType": 16,
    "lenVar": 40
   },
   "kernels_config": {
    "python": {
     "delete_cmd_postfix": "",
     "delete_cmd_prefix": "del ",
     "library": "var_list.py",
     "varRefreshCmd": "print(var_dic_list())"
    },
    "r": {
     "delete_cmd_postfix": ") ",
     "delete_cmd_prefix": "rm(",
     "library": "var_list.r",
     "varRefreshCmd": "cat(var_dic_list()) "
    }
   },
   "types_to_exclude": [
    "module",
    "function",
    "builtin_function_or_method",
    "instance",
    "_Feature"
   ],
   "window_display": false
  }
 },
 "nbformat": 4,
 "nbformat_minor": 1
}
